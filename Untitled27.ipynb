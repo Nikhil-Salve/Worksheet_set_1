{
 "cells": [
  {
   "cell_type": "code",
   "execution_count": 1,
   "id": "5a017479",
   "metadata": {},
   "outputs": [],
   "source": [
    "#Write a python program to find the factorial of a number"
   ]
  },
  {
   "cell_type": "code",
   "execution_count": null,
   "id": "942516ea",
   "metadata": {},
   "outputs": [],
   "source": [
    "num = int(input(\"Enter a number: \"))\n",
    "factorial = 1\n",
    "\n",
    "# check if the number is negative, zero, or positive\n",
    "if num < 0:\n",
    "    print(\"Sorry, factorial does not exist for negative numbers\")\n",
    "elif num == 0:\n",
    "    print(\"The factorial of 0 is 1\")\n",
    "else:\n",
    "    for i in range(1,num + 1):\n",
    "        factorial = factorial*i\n",
    "    print(\"The factorial of\",num,\"is\",factorial)"
   ]
  },
  {
   "cell_type": "code",
   "execution_count": null,
   "id": "eedd26aa",
   "metadata": {},
   "outputs": [],
   "source": [
    "#Write a python program to find whether a number is prime or composite"
   ]
  },
  {
   "cell_type": "code",
   "execution_count": null,
   "id": "f965c5c6",
   "metadata": {},
   "outputs": [],
   "source": [
    "num = int(input(\"Enter a number: \"))\n",
    "if num > 1:\n",
    "    # check for factors\n",
    "    for i in range(2, num):\n",
    "        if (num % i) == 0:\n",
    "            print(num, \"is a composite number\")\n",
    "            break\n",
    "    else:\n",
    "        print(num, \"is a prime number\")\n",
    "else:\n",
    "    print(num, \"is not a prime number\")"
   ]
  },
  {
   "cell_type": "code",
   "execution_count": null,
   "id": "bbf7d2cf",
   "metadata": {},
   "outputs": [],
   "source": [
    "#Write a python program to check whether a given string is palindrome or not"
   ]
  },
  {
   "cell_type": "code",
   "execution_count": null,
   "id": "7a466d04",
   "metadata": {},
   "outputs": [],
   "source": [
    "string = input(\"Enter a string: \")\n",
    "\n",
    "# check if the string is equal to its reverse\n",
    "if string == string[::-1]:\n",
    "    print(\"The string is a palindrome\")\n",
    "else:\n",
    "    print(\"The string is not a palindrome\")"
   ]
  },
  {
   "cell_type": "code",
   "execution_count": null,
   "id": "a3fa2c95",
   "metadata": {},
   "outputs": [],
   "source": [
    "#Write a Python program to get the third side of right-angled triangle from two given side"
   ]
  },
  {
   "cell_type": "code",
   "execution_count": null,
   "id": "d70545d9",
   "metadata": {},
   "outputs": [],
   "source": [
    "import math\n",
    "\n",
    "side1 = float(input(\"Enter the length of side 1: \"))\n",
    "side2 = float(input(\"Enter the length of side 2: \"))\n",
    "\n",
    "# calculate the length of the hypotenuse\n",
    "hypotenuse = math.sqrt(side1**2 + side2**2)\n",
    "\n",
    "print(\"The length of the hypotenuse is\", hypotenuse)"
   ]
  },
  {
   "cell_type": "code",
   "execution_count": null,
   "id": "dc74e1f9",
   "metadata": {},
   "outputs": [],
   "source": [
    "#Write a python program to print the frequency of each of the characters present in a given string"
   ]
  },
  {
   "cell_type": "code",
   "execution_count": null,
   "id": "bb84bf3c",
   "metadata": {},
   "outputs": [],
   "source": [
    "string = input(\"Enter a string: \")\n",
    "\n",
    "# create an empty dictionary to store the frequency of each character\n",
    "freq_dict = {}\n",
    "\n",
    "# iterate through each character in the string\n",
    "for char in string:\n",
    "    # if the character is already in the dictionary, increment its frequency\n",
    "    if char in freq_dict:\n",
    "        freq_dict[char] += 1\n",
    "    # otherwise, add the character to the dictionary with a frequency of 1\n",
    "    else:\n",
    "        freq_dict[char] = 1\n",
    "\n",
    "# print the frequency of each character\n",
    "for char, freq in freq_dict.items():\n",
    "    print(char, \"->\", freq)"
   ]
  }
 ],
 "metadata": {
  "kernelspec": {
   "display_name": "Python 3 (ipykernel)",
   "language": "python",
   "name": "python3"
  },
  "language_info": {
   "codemirror_mode": {
    "name": "ipython",
    "version": 3
   },
   "file_extension": ".py",
   "mimetype": "text/x-python",
   "name": "python",
   "nbconvert_exporter": "python",
   "pygments_lexer": "ipython3",
   "version": "3.9.12"
  }
 },
 "nbformat": 4,
 "nbformat_minor": 5
}
